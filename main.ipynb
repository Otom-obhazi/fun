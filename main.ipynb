{
 "cells": [
  {
   "cell_type": "code",
   "execution_count": 1,
   "metadata": {},
   "outputs": [
    {
     "name": "stdout",
     "output_type": "stream",
     "text": [
      "<class 'float'>\n",
      "70100\n"
     ]
    }
   ],
   "source": [
    "a = float(123)\n",
    "print(type(a))\n",
    "\n",
    "print(str(70) + str(100))"
   ]
  },
  {
   "cell_type": "code",
   "execution_count": null,
   "metadata": {},
   "outputs": [],
   "source": []
  },
  {
   "cell_type": "markdown",
   "metadata": {},
   "source": []
  },
  {
   "cell_type": "code",
   "execution_count": 4,
   "metadata": {},
   "outputs": [
    {
     "name": "stdout",
     "output_type": "stream",
     "text": [
      "8\n",
      "3\n",
      "6\n",
      "3.0\n",
      "4\n",
      "7.0\n"
     ]
    }
   ],
   "source": [
    "# mathematical operators \n",
    "\n",
    "# addition\n",
    "print(3 + 5)\n",
    "\n",
    "#  substraction\n",
    "print(7 - 4)\n",
    "\n",
    "# multiplication\n",
    "print(3 * 2)\n",
    "\n",
    "# division\n",
    "print(6 / 2)\n",
    "# when you divide, it prints out as a float\n",
    "\n",
    "# to rise a number to the power is \n",
    "print(2 ** 2)\n",
    "\n",
    "# when using operators, beware of sign priority\n",
    "# PEMDAS (parentheses, exponents{**}, multiplication, division, addition, substraction) also BODMAS\n",
    "# example\n",
    "print(3 * 3 + 3 / 3 - 3)"
   ]
  },
  {
   "cell_type": "code",
   "execution_count": 6,
   "metadata": {},
   "outputs": [],
   "source": [
    "def print_numbers_version_two(): \n",
    "    number = 2\n",
    "\n",
    "    while number <= 100: \n",
    "        print(number)\n",
    "# Increase number by 2, which, by definition,\n",
    "# is the next even number:\n",
    "    number += 2"
   ]
  },
  {
   "cell_type": "code",
   "execution_count": null,
   "metadata": {},
   "outputs": [],
   "source": [
    "\n",
    "def print_numbers_version_one(): \n",
    "    number = 2\n",
    "\n",
    "    while number <= 100:\n",
    "# If number is even, print it: \n",
    "     if number % 2 == 0:\n",
    "        print(number) \n",
    "\n",
    "    number += 1"
   ]
  },
  {
   "cell_type": "code",
   "execution_count": 2,
   "metadata": {},
   "outputs": [
    {
     "name": "stdout",
     "output_type": "stream",
     "text": [
      "Hello! How are you today?\n"
     ]
    }
   ],
   "source": [
    "x = \"Hello! \"\n",
    "y = \"How are you \"\n",
    "z = \"today?\"\n",
    "print (x + y + z)\n"
   ]
  },
  {
   "cell_type": "code",
   "execution_count": 3,
   "metadata": {},
   "outputs": [
    {
     "name": "stdout",
     "output_type": "stream",
     "text": [
      "Hello! How are you today?\n"
     ]
    }
   ],
   "source": [
    "array = [\"Hello! \", \"How are you \", \"today?\"]\n",
    "print (array[0] + array[1] + array[2])"
   ]
  },
  {
   "cell_type": "code",
   "execution_count": 2,
   "metadata": {},
   "outputs": [
    {
     "name": "stdout",
     "output_type": "stream",
     "text": [
      "2.6666666666666665\n",
      "3\n",
      "2.67\n"
     ]
    }
   ],
   "source": [
    "# rounding of number \n",
    "# e.g 2.5 = 3\n",
    "\n",
    "print(8 / 3)\n",
    "# with round function\n",
    "print(round(8 / 3))\n",
    "\n",
    "# if you want to round it to two decimal just (, 2)\n",
    "print(round(8 / 3, 2))"
   ]
  },
  {
   "cell_type": "code",
   "execution_count": 3,
   "metadata": {},
   "outputs": [
    {
     "name": "stdout",
     "output_type": "stream",
     "text": [
      "2\n"
     ]
    }
   ],
   "source": [
    "# the floor division\n",
    "print(8 // 3)\n",
    "\n",
    "# since division is printed as float, the doule division \n",
    "# makes it an integer"
   ]
  },
  {
   "cell_type": "code",
   "execution_count": null,
   "metadata": {},
   "outputs": [],
   "source": [
    "result = 0\n",
    "\n",
    "result += 1\n",
    "\n",
    "print(result)"
   ]
  },
  {
   "cell_type": "code",
   "execution_count": 4,
   "metadata": {},
   "outputs": [
    {
     "name": "stdout",
     "output_type": "stream",
     "text": [
      "your score is 0, yor height is 1.8 and the fact you are wining is True\n"
     ]
    }
   ],
   "source": [
    "# using the \" f \" charater\n",
    "# to fit multiple data type in a string\n",
    "\n",
    "score = 0 \n",
    "height = 1.8\n",
    "isWinnning = True\n",
    "\n",
    "#  f- string\n",
    "print(f\"your score is {score}, yor height is {height} and the fact you are wining is {isWinnning}\")"
   ]
  },
  {
   "cell_type": "code",
   "execution_count": 7,
   "metadata": {},
   "outputs": [
    {
     "name": "stdout",
     "output_type": "stream",
     "text": [
      "you have 25550 days, 3640 weeks and 840 months left\n"
     ]
    }
   ],
   "source": [
    "# how long will it take till i'm 90\n",
    "# it will calculate the number of days weeks and month i have left in myb life\n",
    "\n",
    "age = input(\"how old are you; \")\n",
    "\n",
    "# 365 day = 1 year\n",
    "# 52 weeks = 1 year\n",
    "# 12 months = 1 year\n",
    "\n",
    "# days to live\n",
    "days = 90 - int(age)\n",
    "days *= 365\n",
    "\n",
    "# days to weeks\n",
    "weeks = 90 - int(age)\n",
    "weeks *= 52\n",
    "\n",
    "# days to month\n",
    "months = 90 - int(age)\n",
    "months *= 12\n",
    "\n",
    "message = f\"you have {days} days, {weeks} weeks and {months} months left\"\n",
    "print(message)"
   ]
  },
  {
   "cell_type": "code",
   "execution_count": 9,
   "metadata": {},
   "outputs": [
    {
     "data": {
      "text/plain": [
       "array([ 2,  4,  6,  8, 10])"
      ]
     },
     "execution_count": 9,
     "metadata": {},
     "output_type": "execute_result"
    }
   ],
   "source": [
    "import numpy as np\n",
    "\n",
    "\n",
    "my_array = np.array([2,4,6,8,10])\n",
    "my_array\n",
    "\n",
    "# the data-type of a NumPy array is the ndarray \n",
    "\n"
   ]
  },
  {
   "cell_type": "code",
   "execution_count": 10,
   "metadata": {},
   "outputs": [
    {
     "data": {
      "text/plain": [
       "numpy.ndarray"
      ]
     },
     "execution_count": 10,
     "metadata": {},
     "output_type": "execute_result"
    }
   ],
   "source": [
    "\n",
    "type(my_array)"
   ]
  },
  {
   "cell_type": "code",
   "execution_count": null,
   "metadata": {},
   "outputs": [],
   "source": []
  }
 ],
 "metadata": {
  "kernelspec": {
   "display_name": "Python 3",
   "language": "python",
   "name": "python3"
  },
  "language_info": {
   "codemirror_mode": {
    "name": "ipython",
    "version": 3
   },
   "file_extension": ".py",
   "mimetype": "text/x-python",
   "name": "python",
   "nbconvert_exporter": "python",
   "pygments_lexer": "ipython3",
   "version": "3.12.0"
  }
 },
 "nbformat": 4,
 "nbformat_minor": 2
}
